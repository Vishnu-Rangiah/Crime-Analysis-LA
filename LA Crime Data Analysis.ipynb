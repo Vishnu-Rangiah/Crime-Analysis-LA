{
 "cells": [
  {
   "cell_type": "markdown",
   "metadata": {},
   "source": [
    "## Introduction\n",
    "\n",
    "By: Vishnu Rangiah \n",
    "\n",
    "This project aims to clearly display the metrics collected in crime reports in LA. The data is collected by the city of LA and can be found here [link]. We will begin by cleaning and preforming a simple EDA on the data then focus on the interactive dashbord which will be created using Tableau."
   ]
  },
  {
   "cell_type": "markdown",
   "metadata": {},
   "source": [
    "### Project Objectives\n",
    "\n",
    "***Visualizations***\n",
    "- Display LA neighborhoods with the most crime.\n",
    "- What crimes are most popular per area?\n",
    "- Display a heat map per area that shows popularity of each crime \n",
    "    - Another based on time per hour of day\n",
    "    - Another per week, per month\n",
    "\n",
    "Sources:\n",
    "- https://www.kaggle.com/ambarish/eda-lacrimes-maps-timeseriesforecasts-xgboost/report\n",
    "- https://www.kaggle.com/fedecape/it-s-crime-time-a-datetime-exploration\n",
    "\n",
    "\n",
    "PowerBI crime dashboards for inspo:\n",
    "- https://app.powerbigov.us/view?r=eyJrIjoiOGNhMjVhYTctMjk3Ny00MTZjLTliNDAtY2M2ZTQ5YWI3N2ViIiwidCI6IjJiOWY1N2ViLTc4ZDEtNDZmYi1iZTgzLWEyYWZkZDdjNjA0MyJ9\n",
    "- https://compstat.nypdonline.org/2e5c3f4b-85c1-4635-83c6-22b27fe7c75c/view/89\n",
    "\n",
    "***ML Models***\n",
    "- Apply clustering models\n",
    "- Time Series Analysis\n",
    "    - XGBoost and ARIMA for predictions\n",
    "- Trend Analysis split by neighborhood and time zone\n",
    "\n",
    "***Productionzeing Pipeline***\n",
    "- use pyspark & airflow for batch processing data\n",
    "- use tableau to visualize results "
   ]
  },
  {
   "cell_type": "markdown",
   "metadata": {},
   "source": [
    "### Import Dataset"
   ]
  },
  {
   "cell_type": "markdown",
   "metadata": {},
   "source": [
    "The LA Crime dataset can be found in the following sources:\n",
    "- https://dev.socrata.com/foundry/data.lacity.org/2nrs-mtv8\n",
    "- https://www.kaggle.com/cityofLA/crime-in-los-angeles\n",
    "- https://data.lacity.org/Public-Safety/Crime-Data-from-2020-to-Present/2nrs-mtv8"
   ]
  },
  {
   "cell_type": "markdown",
   "metadata": {},
   "source": [
    "\"This dataset reflects incidents of crime in the City of Los Angeles dating back to 2020. This data is transcribed from original crime reports that are typed on paper and therefore there may be some inaccuracies within the data. Some location fields with missing data are noted as (0°, 0°). Address fields are only provided to the nearest hundred block in order to maintain privacy. This data is as accurate as the data in the database. Please note questions or concerns in the comments.\""
   ]
  },
  {
   "cell_type": "code",
   "execution_count": 4,
   "metadata": {},
   "outputs": [],
   "source": [
    "from sodapy import Socrata #importing dataset\n",
    "import yaml #to sort API keys\n",
    "\n",
    "import pandas as pd \n",
    "import datetime\n",
    "from dateutil.relativedelta import relativedelta\n",
    "\n",
    "import seaborn as sns #data visualizations"
   ]
  },
  {
   "cell_type": "markdown",
   "metadata": {},
   "source": [
    "I use chose to use a configuration file to hide my apptoken, username, and password which are needed inorder to connect to the Socrata API. The steps to create an apptoken can be found here https://dev.socrata.com/foundry/data.lacity.org/2nrs-mtv8"
   ]
  },
  {
   "cell_type": "code",
   "execution_count": 5,
   "metadata": {},
   "outputs": [],
   "source": [
    "with open(\"config.yml\", \"r\") as ymlfile:\n",
    "    cfg = yaml.safe_load(ymlfile)"
   ]
  },
  {
   "cell_type": "code",
   "execution_count": 6,
   "metadata": {},
   "outputs": [],
   "source": [
    "client = Socrata(\"data.lacity.org\",\n",
    "                 cfg['apptoken'],\n",
    "                 username=cfg['username'],\n",
    "                 password=cfg['password'])"
   ]
  },
  {
   "cell_type": "markdown",
   "metadata": {},
   "source": [
    "We want to narrow our analysis to the last three months of reported crimes"
   ]
  },
  {
   "cell_type": "code",
   "execution_count": 7,
   "metadata": {},
   "outputs": [
    {
     "data": {
      "text/plain": [
       "\"'2021-11-11T17:57:18.608465'\""
      ]
     },
     "execution_count": 7,
     "metadata": {},
     "output_type": "execute_result"
    }
   ],
   "source": [
    "three_month = datetime.datetime.now() + relativedelta(months=-3)\n",
    "date_str = f\"'{three_month.isoformat()}'\"\n",
    "date_str"
   ]
  },
  {
   "cell_type": "code",
   "execution_count": 8,
   "metadata": {
    "scrolled": false
   },
   "outputs": [
    {
     "data": {
      "text/html": [
       "<div>\n",
       "<style scoped>\n",
       "    .dataframe tbody tr th:only-of-type {\n",
       "        vertical-align: middle;\n",
       "    }\n",
       "\n",
       "    .dataframe tbody tr th {\n",
       "        vertical-align: top;\n",
       "    }\n",
       "\n",
       "    .dataframe thead th {\n",
       "        text-align: right;\n",
       "    }\n",
       "</style>\n",
       "<table border=\"1\" class=\"dataframe\">\n",
       "  <thead>\n",
       "    <tr style=\"text-align: right;\">\n",
       "      <th></th>\n",
       "      <th>dr_no</th>\n",
       "      <th>date_rptd</th>\n",
       "      <th>date_occ</th>\n",
       "      <th>time_occ</th>\n",
       "      <th>area</th>\n",
       "      <th>area_name</th>\n",
       "      <th>rpt_dist_no</th>\n",
       "      <th>part_1_2</th>\n",
       "      <th>crm_cd</th>\n",
       "      <th>crm_cd_desc</th>\n",
       "      <th>...</th>\n",
       "      <th>weapon_desc</th>\n",
       "      <th>status</th>\n",
       "      <th>status_desc</th>\n",
       "      <th>crm_cd_1</th>\n",
       "      <th>crm_cd_2</th>\n",
       "      <th>location</th>\n",
       "      <th>lat</th>\n",
       "      <th>lon</th>\n",
       "      <th>cross_street</th>\n",
       "      <th>crm_cd_3</th>\n",
       "    </tr>\n",
       "  </thead>\n",
       "  <tbody>\n",
       "    <tr>\n",
       "      <th>0</th>\n",
       "      <td>210319064</td>\n",
       "      <td>2021-11-12T00:00:00.000</td>\n",
       "      <td>2020-01-01T00:00:00.000</td>\n",
       "      <td>1200</td>\n",
       "      <td>03</td>\n",
       "      <td>Southwest</td>\n",
       "      <td>0398</td>\n",
       "      <td>1</td>\n",
       "      <td>121</td>\n",
       "      <td>RAPE, FORCIBLE</td>\n",
       "      <td>...</td>\n",
       "      <td>STRONG-ARM (HANDS, FIST, FEET OR BODILY FORCE)</td>\n",
       "      <td>IC</td>\n",
       "      <td>Invest Cont</td>\n",
       "      <td>121</td>\n",
       "      <td>812</td>\n",
       "      <td>600 W  41ST                         PL</td>\n",
       "      <td>34.0078</td>\n",
       "      <td>-118.2856</td>\n",
       "      <td>NaN</td>\n",
       "      <td>NaN</td>\n",
       "    </tr>\n",
       "    <tr>\n",
       "      <th>1</th>\n",
       "      <td>211115266</td>\n",
       "      <td>2021-11-12T00:00:00.000</td>\n",
       "      <td>2020-10-01T00:00:00.000</td>\n",
       "      <td>1000</td>\n",
       "      <td>11</td>\n",
       "      <td>Northeast</td>\n",
       "      <td>1132</td>\n",
       "      <td>2</td>\n",
       "      <td>740</td>\n",
       "      <td>VANDALISM - FELONY ($400 &amp; OVER, ALL CHURCH VA...</td>\n",
       "      <td>...</td>\n",
       "      <td>NaN</td>\n",
       "      <td>IC</td>\n",
       "      <td>Invest Cont</td>\n",
       "      <td>740</td>\n",
       "      <td>NaN</td>\n",
       "      <td>3200    COLONY CIR</td>\n",
       "      <td>34.1121</td>\n",
       "      <td>-118.2776</td>\n",
       "      <td>NaN</td>\n",
       "      <td>NaN</td>\n",
       "    </tr>\n",
       "    <tr>\n",
       "      <th>2</th>\n",
       "      <td>210618965</td>\n",
       "      <td>2021-11-12T00:00:00.000</td>\n",
       "      <td>2020-04-14T00:00:00.000</td>\n",
       "      <td>0945</td>\n",
       "      <td>06</td>\n",
       "      <td>Hollywood</td>\n",
       "      <td>0639</td>\n",
       "      <td>2</td>\n",
       "      <td>946</td>\n",
       "      <td>OTHER MISCELLANEOUS CRIME</td>\n",
       "      <td>...</td>\n",
       "      <td>NaN</td>\n",
       "      <td>IC</td>\n",
       "      <td>Invest Cont</td>\n",
       "      <td>946</td>\n",
       "      <td>NaN</td>\n",
       "      <td>5300    RUSSELL                      AV</td>\n",
       "      <td>34.1042</td>\n",
       "      <td>-118.3072</td>\n",
       "      <td>NaN</td>\n",
       "      <td>NaN</td>\n",
       "    </tr>\n",
       "    <tr>\n",
       "      <th>3</th>\n",
       "      <td>211014473</td>\n",
       "      <td>2021-11-12T00:00:00.000</td>\n",
       "      <td>2020-07-29T00:00:00.000</td>\n",
       "      <td>1200</td>\n",
       "      <td>10</td>\n",
       "      <td>West Valley</td>\n",
       "      <td>1008</td>\n",
       "      <td>2</td>\n",
       "      <td>354</td>\n",
       "      <td>THEFT OF IDENTITY</td>\n",
       "      <td>...</td>\n",
       "      <td>NaN</td>\n",
       "      <td>IC</td>\n",
       "      <td>Invest Cont</td>\n",
       "      <td>354</td>\n",
       "      <td>NaN</td>\n",
       "      <td>7200    VALJEAN                      AV</td>\n",
       "      <td>34.2077</td>\n",
       "      <td>-118.4912</td>\n",
       "      <td>NaN</td>\n",
       "      <td>NaN</td>\n",
       "    </tr>\n",
       "    <tr>\n",
       "      <th>4</th>\n",
       "      <td>210618957</td>\n",
       "      <td>2021-11-12T00:00:00.000</td>\n",
       "      <td>2020-06-13T00:00:00.000</td>\n",
       "      <td>0001</td>\n",
       "      <td>06</td>\n",
       "      <td>Hollywood</td>\n",
       "      <td>0615</td>\n",
       "      <td>1</td>\n",
       "      <td>310</td>\n",
       "      <td>BURGLARY</td>\n",
       "      <td>...</td>\n",
       "      <td>NaN</td>\n",
       "      <td>IC</td>\n",
       "      <td>Invest Cont</td>\n",
       "      <td>310</td>\n",
       "      <td>NaN</td>\n",
       "      <td>2300 N  CAHUENGA                     BL</td>\n",
       "      <td>34.1113</td>\n",
       "      <td>-118.3332</td>\n",
       "      <td>NaN</td>\n",
       "      <td>NaN</td>\n",
       "    </tr>\n",
       "  </tbody>\n",
       "</table>\n",
       "<p>5 rows × 27 columns</p>\n",
       "</div>"
      ],
      "text/plain": [
       "       dr_no                date_rptd                 date_occ time_occ area  \\\n",
       "0  210319064  2021-11-12T00:00:00.000  2020-01-01T00:00:00.000     1200   03   \n",
       "1  211115266  2021-11-12T00:00:00.000  2020-10-01T00:00:00.000     1000   11   \n",
       "2  210618965  2021-11-12T00:00:00.000  2020-04-14T00:00:00.000     0945   06   \n",
       "3  211014473  2021-11-12T00:00:00.000  2020-07-29T00:00:00.000     1200   10   \n",
       "4  210618957  2021-11-12T00:00:00.000  2020-06-13T00:00:00.000     0001   06   \n",
       "\n",
       "     area_name rpt_dist_no part_1_2 crm_cd  \\\n",
       "0    Southwest        0398        1    121   \n",
       "1    Northeast        1132        2    740   \n",
       "2    Hollywood        0639        2    946   \n",
       "3  West Valley        1008        2    354   \n",
       "4    Hollywood        0615        1    310   \n",
       "\n",
       "                                         crm_cd_desc  ...  \\\n",
       "0                                     RAPE, FORCIBLE  ...   \n",
       "1  VANDALISM - FELONY ($400 & OVER, ALL CHURCH VA...  ...   \n",
       "2                          OTHER MISCELLANEOUS CRIME  ...   \n",
       "3                                  THEFT OF IDENTITY  ...   \n",
       "4                                           BURGLARY  ...   \n",
       "\n",
       "                                      weapon_desc status  status_desc  \\\n",
       "0  STRONG-ARM (HANDS, FIST, FEET OR BODILY FORCE)     IC  Invest Cont   \n",
       "1                                             NaN     IC  Invest Cont   \n",
       "2                                             NaN     IC  Invest Cont   \n",
       "3                                             NaN     IC  Invest Cont   \n",
       "4                                             NaN     IC  Invest Cont   \n",
       "\n",
       "  crm_cd_1 crm_cd_2                                 location      lat  \\\n",
       "0      121      812   600 W  41ST                         PL  34.0078   \n",
       "1      740      NaN                       3200    COLONY CIR  34.1121   \n",
       "2      946      NaN  5300    RUSSELL                      AV  34.1042   \n",
       "3      354      NaN  7200    VALJEAN                      AV  34.2077   \n",
       "4      310      NaN  2300 N  CAHUENGA                     BL  34.1113   \n",
       "\n",
       "         lon cross_street crm_cd_3  \n",
       "0  -118.2856          NaN      NaN  \n",
       "1  -118.2776          NaN      NaN  \n",
       "2  -118.3072          NaN      NaN  \n",
       "3  -118.4912          NaN      NaN  \n",
       "4  -118.3332          NaN      NaN  \n",
       "\n",
       "[5 rows x 27 columns]"
      ]
     },
     "execution_count": 8,
     "metadata": {},
     "output_type": "execute_result"
    }
   ],
   "source": [
    "results = client.get(\"2nrs-mtv8\", where=\"date_rptd > \" + date_str, limit = 100000)\n",
    "results_df = pd.DataFrame.from_records(results) #pandas dataframe\n",
    "results_df.head()"
   ]
  },
  {
   "cell_type": "code",
   "execution_count": 9,
   "metadata": {},
   "outputs": [],
   "source": [
    "df = results_df"
   ]
  },
  {
   "cell_type": "code",
   "execution_count": 35,
   "metadata": {},
   "outputs": [],
   "source": [
    "df.to_csv(\"crime_3month.csv\")"
   ]
  },
  {
   "cell_type": "code",
   "execution_count": 24,
   "metadata": {},
   "outputs": [],
   "source": [
    "# Code to get all of the data as a python generator from 2020 -> Present\n",
    "# results_all = client.get_all(\"2nrs-mtv8\", where=\"date_rptd > \" + date_str)\n",
    "\n",
    "# could make a while loop and concat into pandas df till results yeilds a none statement could take long though"
   ]
  },
  {
   "cell_type": "markdown",
   "metadata": {},
   "source": [
    "### Data Cleaning"
   ]
  },
  {
   "cell_type": "code",
   "execution_count": 23,
   "metadata": {},
   "outputs": [],
   "source": [
    "def expand_print(lst):\n",
    "    \"\"\" Prints all the elements in a list\n",
    "    \"\"\"\n",
    "    for i in lst: print(i)"
   ]
  },
  {
   "cell_type": "code",
   "execution_count": 80,
   "metadata": {
    "scrolled": true
   },
   "outputs": [
    {
     "data": {
      "text/html": [
       "<div>\n",
       "<style scoped>\n",
       "    .dataframe tbody tr th:only-of-type {\n",
       "        vertical-align: middle;\n",
       "    }\n",
       "\n",
       "    .dataframe tbody tr th {\n",
       "        vertical-align: top;\n",
       "    }\n",
       "\n",
       "    .dataframe thead th {\n",
       "        text-align: right;\n",
       "    }\n",
       "</style>\n",
       "<table border=\"1\" class=\"dataframe\">\n",
       "  <thead>\n",
       "    <tr style=\"text-align: right;\">\n",
       "      <th></th>\n",
       "      <th>dr_no</th>\n",
       "      <th>date_rptd</th>\n",
       "      <th>date_occ</th>\n",
       "      <th>time_occ</th>\n",
       "      <th>area</th>\n",
       "      <th>area_name</th>\n",
       "      <th>rpt_dist_no</th>\n",
       "      <th>part_1_2</th>\n",
       "      <th>crm_cd</th>\n",
       "      <th>crm_cd_desc</th>\n",
       "      <th>...</th>\n",
       "      <th>status</th>\n",
       "      <th>status_desc</th>\n",
       "      <th>crm_cd_1</th>\n",
       "      <th>location</th>\n",
       "      <th>lat</th>\n",
       "      <th>lon</th>\n",
       "      <th>cross_street</th>\n",
       "      <th>crm_cd_2</th>\n",
       "      <th>crm_cd_3</th>\n",
       "      <th>crm_cd_4</th>\n",
       "    </tr>\n",
       "  </thead>\n",
       "  <tbody>\n",
       "    <tr>\n",
       "      <th>0</th>\n",
       "      <td>210216655</td>\n",
       "      <td>2021-10-26T00:00:00.000</td>\n",
       "      <td>2020-10-09T00:00:00.000</td>\n",
       "      <td>0100</td>\n",
       "      <td>02</td>\n",
       "      <td>Rampart</td>\n",
       "      <td>0246</td>\n",
       "      <td>1</td>\n",
       "      <td>121</td>\n",
       "      <td>RAPE, FORCIBLE</td>\n",
       "      <td>...</td>\n",
       "      <td>IC</td>\n",
       "      <td>Invest Cont</td>\n",
       "      <td>121</td>\n",
       "      <td>400 S  WESTLAKE                     AV</td>\n",
       "      <td>34.059</td>\n",
       "      <td>-118.2737</td>\n",
       "      <td>NaN</td>\n",
       "      <td>NaN</td>\n",
       "      <td>NaN</td>\n",
       "      <td>NaN</td>\n",
       "    </tr>\n",
       "    <tr>\n",
       "      <th>1</th>\n",
       "      <td>210515312</td>\n",
       "      <td>2021-10-26T00:00:00.000</td>\n",
       "      <td>2020-07-20T00:00:00.000</td>\n",
       "      <td>0001</td>\n",
       "      <td>05</td>\n",
       "      <td>Harbor</td>\n",
       "      <td>0557</td>\n",
       "      <td>1</td>\n",
       "      <td>341</td>\n",
       "      <td>THEFT-GRAND ($950.01 &amp; OVER)EXCPT,GUNS,FOWL,LI...</td>\n",
       "      <td>...</td>\n",
       "      <td>IC</td>\n",
       "      <td>Invest Cont</td>\n",
       "      <td>341</td>\n",
       "      <td>800 W  5TH                          ST</td>\n",
       "      <td>33.7397</td>\n",
       "      <td>-118.2946</td>\n",
       "      <td>NaN</td>\n",
       "      <td>NaN</td>\n",
       "      <td>NaN</td>\n",
       "      <td>NaN</td>\n",
       "    </tr>\n",
       "    <tr>\n",
       "      <th>2</th>\n",
       "      <td>211013798</td>\n",
       "      <td>2021-10-26T00:00:00.000</td>\n",
       "      <td>2020-01-11T00:00:00.000</td>\n",
       "      <td>1110</td>\n",
       "      <td>10</td>\n",
       "      <td>West Valley</td>\n",
       "      <td>1003</td>\n",
       "      <td>2</td>\n",
       "      <td>662</td>\n",
       "      <td>BUNCO, GRAND THEFT</td>\n",
       "      <td>...</td>\n",
       "      <td>IC</td>\n",
       "      <td>Invest Cont</td>\n",
       "      <td>662</td>\n",
       "      <td>7600    RESEDA                       BL</td>\n",
       "      <td>34.2148</td>\n",
       "      <td>-118.5404</td>\n",
       "      <td>NaN</td>\n",
       "      <td>NaN</td>\n",
       "      <td>NaN</td>\n",
       "      <td>NaN</td>\n",
       "    </tr>\n",
       "    <tr>\n",
       "      <th>3</th>\n",
       "      <td>211819149</td>\n",
       "      <td>2021-10-26T00:00:00.000</td>\n",
       "      <td>2020-08-20T00:00:00.000</td>\n",
       "      <td>1800</td>\n",
       "      <td>18</td>\n",
       "      <td>Southeast</td>\n",
       "      <td>1841</td>\n",
       "      <td>2</td>\n",
       "      <td>822</td>\n",
       "      <td>HUMAN TRAFFICKING - COMMERCIAL SEX ACTS</td>\n",
       "      <td>...</td>\n",
       "      <td>IC</td>\n",
       "      <td>Invest Cont</td>\n",
       "      <td>822</td>\n",
       "      <td>FIGUEROA                     ST</td>\n",
       "      <td>33.9401</td>\n",
       "      <td>-118.2826</td>\n",
       "      <td>106TH                        ST</td>\n",
       "      <td>NaN</td>\n",
       "      <td>NaN</td>\n",
       "      <td>NaN</td>\n",
       "    </tr>\n",
       "    <tr>\n",
       "      <th>4</th>\n",
       "      <td>210515522</td>\n",
       "      <td>2021-10-26T00:00:00.000</td>\n",
       "      <td>2020-01-01T00:00:00.000</td>\n",
       "      <td>0600</td>\n",
       "      <td>05</td>\n",
       "      <td>Harbor</td>\n",
       "      <td>0522</td>\n",
       "      <td>2</td>\n",
       "      <td>627</td>\n",
       "      <td>CHILD ABUSE (PHYSICAL) - SIMPLE ASSAULT</td>\n",
       "      <td>...</td>\n",
       "      <td>IC</td>\n",
       "      <td>Invest Cont</td>\n",
       "      <td>627</td>\n",
       "      <td>700    GULF                         AV</td>\n",
       "      <td>33.778</td>\n",
       "      <td>-118.2728</td>\n",
       "      <td>NaN</td>\n",
       "      <td>NaN</td>\n",
       "      <td>NaN</td>\n",
       "      <td>NaN</td>\n",
       "    </tr>\n",
       "  </tbody>\n",
       "</table>\n",
       "<p>5 rows × 28 columns</p>\n",
       "</div>"
      ],
      "text/plain": [
       "       dr_no                date_rptd                 date_occ time_occ area  \\\n",
       "0  210216655  2021-10-26T00:00:00.000  2020-10-09T00:00:00.000     0100   02   \n",
       "1  210515312  2021-10-26T00:00:00.000  2020-07-20T00:00:00.000     0001   05   \n",
       "2  211013798  2021-10-26T00:00:00.000  2020-01-11T00:00:00.000     1110   10   \n",
       "3  211819149  2021-10-26T00:00:00.000  2020-08-20T00:00:00.000     1800   18   \n",
       "4  210515522  2021-10-26T00:00:00.000  2020-01-01T00:00:00.000     0600   05   \n",
       "\n",
       "     area_name rpt_dist_no part_1_2 crm_cd  \\\n",
       "0      Rampart        0246        1    121   \n",
       "1       Harbor        0557        1    341   \n",
       "2  West Valley        1003        2    662   \n",
       "3    Southeast        1841        2    822   \n",
       "4       Harbor        0522        2    627   \n",
       "\n",
       "                                         crm_cd_desc  ... status  status_desc  \\\n",
       "0                                     RAPE, FORCIBLE  ...     IC  Invest Cont   \n",
       "1  THEFT-GRAND ($950.01 & OVER)EXCPT,GUNS,FOWL,LI...  ...     IC  Invest Cont   \n",
       "2                                 BUNCO, GRAND THEFT  ...     IC  Invest Cont   \n",
       "3            HUMAN TRAFFICKING - COMMERCIAL SEX ACTS  ...     IC  Invest Cont   \n",
       "4            CHILD ABUSE (PHYSICAL) - SIMPLE ASSAULT  ...     IC  Invest Cont   \n",
       "\n",
       "  crm_cd_1                                 location      lat        lon  \\\n",
       "0      121   400 S  WESTLAKE                     AV   34.059  -118.2737   \n",
       "1      341   800 W  5TH                          ST  33.7397  -118.2946   \n",
       "2      662  7600    RESEDA                       BL  34.2148  -118.5404   \n",
       "3      822          FIGUEROA                     ST  33.9401  -118.2826   \n",
       "4      627   700    GULF                         AV   33.778  -118.2728   \n",
       "\n",
       "                      cross_street crm_cd_2 crm_cd_3 crm_cd_4  \n",
       "0                              NaN      NaN      NaN      NaN  \n",
       "1                              NaN      NaN      NaN      NaN  \n",
       "2                              NaN      NaN      NaN      NaN  \n",
       "3  106TH                        ST      NaN      NaN      NaN  \n",
       "4                              NaN      NaN      NaN      NaN  \n",
       "\n",
       "[5 rows x 28 columns]"
      ]
     },
     "execution_count": 80,
     "metadata": {},
     "output_type": "execute_result"
    }
   ],
   "source": [
    "results_df.head()"
   ]
  },
  {
   "cell_type": "code",
   "execution_count": 44,
   "metadata": {
    "scrolled": false
   },
   "outputs": [
    {
     "data": {
      "text/plain": [
       "dr_no             object\n",
       "date_rptd         object\n",
       "date_occ          object\n",
       "time_occ          object\n",
       "area              object\n",
       "area_name         object\n",
       "rpt_dist_no       object\n",
       "part_1_2          object\n",
       "crm_cd            object\n",
       "crm_cd_desc       object\n",
       "mocodes           object\n",
       "vict_age          object\n",
       "vict_sex          object\n",
       "vict_descent      object\n",
       "premis_cd         object\n",
       "premis_desc       object\n",
       "weapon_used_cd    object\n",
       "weapon_desc       object\n",
       "status            object\n",
       "status_desc       object\n",
       "crm_cd_1          object\n",
       "location          object\n",
       "lat               object\n",
       "lon               object\n",
       "cross_street      object\n",
       "crm_cd_2          object\n",
       "crm_cd_3          object\n",
       "crm_cd_4          object\n",
       "dtype: object"
      ]
     },
     "execution_count": 44,
     "metadata": {},
     "output_type": "execute_result"
    }
   ],
   "source": [
    "results_df.dtypes"
   ]
  },
  {
   "cell_type": "markdown",
   "metadata": {},
   "source": [
    "Go through the metrics and find some things to clean for the pipeline \n",
    "\n",
    "- Long latitude \n",
    "- find NAs\n",
    "- Maybe make some graphs "
   ]
  },
  {
   "cell_type": "code",
   "execution_count": 77,
   "metadata": {},
   "outputs": [
    {
     "name": "stdout",
     "output_type": "stream",
     "text": [
      "mocodes\n",
      "vict_sex\n",
      "vict_descent\n",
      "premis_cd\n",
      "premis_desc\n",
      "weapon_used_cd\n",
      "weapon_desc\n",
      "crm_cd_1\n",
      "cross_street\n",
      "crm_cd_2\n",
      "crm_cd_3\n",
      "crm_cd_4\n"
     ]
    }
   ],
   "source": [
    "expand_print(df.columns[df.isnull().any()])"
   ]
  },
  {
   "cell_type": "code",
   "execution_count": 112,
   "metadata": {},
   "outputs": [
    {
     "data": {
      "text/plain": [
       "'2022-01-24T00:00:00.000'"
      ]
     },
     "execution_count": 112,
     "metadata": {},
     "output_type": "execute_result"
    }
   ],
   "source": [
    "max(results_df['date_rptd'])"
   ]
  },
  {
   "cell_type": "code",
   "execution_count": 110,
   "metadata": {},
   "outputs": [
    {
     "data": {
      "text/plain": [
       "'2021-10-26T00:00:00.000'"
      ]
     },
     "execution_count": 110,
     "metadata": {},
     "output_type": "execute_result"
    }
   ],
   "source": [
    "min(results_df['date_rptd'])"
   ]
  },
  {
   "cell_type": "code",
   "execution_count": 113,
   "metadata": {},
   "outputs": [
    {
     "data": {
      "text/plain": [
       "52682"
      ]
     },
     "execution_count": 113,
     "metadata": {},
     "output_type": "execute_result"
    }
   ],
   "source": [
    "len(df) #52 thousand record "
   ]
  },
  {
   "cell_type": "markdown",
   "metadata": {},
   "source": [
    "### Data Visualization"
   ]
  },
  {
   "cell_type": "code",
   "execution_count": 33,
   "metadata": {},
   "outputs": [],
   "source": [
    "#expand_print(df[\"crm_cd_desc\"].unique()) #displays all of the unique crime descriptions of LA Crime "
   ]
  },
  {
   "cell_type": "code",
   "execution_count": 132,
   "metadata": {},
   "outputs": [
    {
     "data": {
      "text/plain": [
       "Text(0.5, 1.0, 'Crime Description')"
      ]
     },
     "execution_count": 132,
     "metadata": {},
     "output_type": "execute_result"
    },
    {
     "data": {
      "image/png": "[encoded data removed]",
      "text/plain": [
       "<Figure size 432x288 with 1 Axes>"
      ]
     },
     "metadata": {
      "needs_background": "light"
     },
     "output_type": "display_data"
    }
   ],
   "source": [
    "sns.countplot(y = 'crm_cd_desc', order=df.crm_cd_desc.value_counts().iloc[:20].index, data=df).set_title('Crime Description')"
   ]
  },
  {
   "cell_type": "markdown",
   "metadata": {},
   "source": [
    "The figure above shoes that vehicle crime ranks highly amoung the different types of crime in LA. Specifically, instances of stolen vehicles occurs far greater than any other type of crime. "
   ]
  },
  {
   "cell_type": "code",
   "execution_count": 131,
   "metadata": {},
   "outputs": [
    {
     "data": {
      "text/plain": [
       "Text(0.5, 1.0, 'Crime Scene')"
      ]
     },
     "execution_count": 131,
     "metadata": {},
     "output_type": "execute_result"
    },
    {
     "data": {
      "image/png": "[encoded data removed]",
      "text/plain": [
       "<Figure size 432x288 with 1 Axes>"
      ]
     },
     "metadata": {
      "needs_background": "light"
     },
     "output_type": "display_data"
    }
   ],
   "source": [
    "sns.countplot(y = 'premis_desc', order=df.premis_desc.value_counts().iloc[:20].index, data=df).set_title('Crime Scene')"
   ]
  },
  {
   "cell_type": "markdown",
   "metadata": {},
   "source": [
    "It is clear in the graph above that street crimes occurs the most."
   ]
  },
  {
   "cell_type": "code",
   "execution_count": 34,
   "metadata": {
    "scrolled": true
   },
   "outputs": [
    {
     "data": {
      "text/plain": [
       "Text(0.5, 1.0, 'Victim Race')"
      ]
     },
     "execution_count": 34,
     "metadata": {},
     "output_type": "execute_result"
    },
    {
     "data": {
      "image/png": "[encoded data removed]",
      "text/plain": [
       "<Figure size 432x288 with 1 Axes>"
      ]
     },
     "metadata": {
      "needs_background": "light"
     },
     "output_type": "display_data"
    }
   ],
   "source": [
    "sns.countplot(y = 'vict_descent', data=df).set_title('Victim Race')"
   ]
  },
  {
   "cell_type": "markdown",
   "metadata": {},
   "source": [
    "The H in the figure corresponds to hispanics, and W as White. The figure shows that out of the crime reports the hispanics had the highest count as the victim's race"
   ]
  },
  {
   "cell_type": "code",
   "execution_count": 116,
   "metadata": {},
   "outputs": [
    {
     "data": {
      "text/plain": [
       "<AxesSubplot:xlabel='count', ylabel='area_name'>"
      ]
     },
     "execution_count": 116,
     "metadata": {},
     "output_type": "execute_result"
    },
    {
     "data": {
      "image/png": "[encoded data removed]",
      "text/plain": [
       "<Figure size 432x288 with 1 Axes>"
      ]
     },
     "metadata": {
      "needs_background": "light"
     },
     "output_type": "display_data"
    }
   ],
   "source": [
    "sns.countplot(y = 'area_name', data=df)"
   ]
  },
  {
   "cell_type": "markdown",
   "metadata": {},
   "source": [
    "The distribution of crime per neighborhood is fairly even, with central LA noticablly having slightly more crime than the other neighborhoods. "
   ]
  }
 ],
 "metadata": {
  "kernelspec": {
   "display_name": "Python 3",
   "language": "python",
   "name": "python3"
  },
  "language_info": {
   "codemirror_mode": {
    "name": "ipython",
    "version": 3
   },
   "file_extension": ".py",
   "mimetype": "text/x-python",
   "name": "python",
   "nbconvert_exporter": "python",
   "pygments_lexer": "ipython3",
   "version": "3.8.5"
  }
 },
 "nbformat": 4,
 "nbformat_minor": 4
}
